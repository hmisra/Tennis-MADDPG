{
 "cells": [
  {
   "cell_type": "markdown",
   "metadata": {},
   "source": [
    "# Collaboration and Competition\n",
    "\n",
    "---\n",
    "\n",
    "In this notebook, you will learn how to use the Unity ML-Agents environment for the third project of the [Deep Reinforcement Learning Nanodegree](https://www.udacity.com/course/deep-reinforcement-learning-nanodegree--nd893) program.\n",
    "\n",
    "### 1. Start the Environment\n",
    "\n",
    "We begin by importing the necessary packages.  If the code cell below returns an error, please revisit the project instructions to double-check that you have installed [Unity ML-Agents](https://github.com/Unity-Technologies/ml-agents/blob/master/docs/Installation.md) and [NumPy](http://www.numpy.org/)."
   ]
  },
  {
   "cell_type": "code",
   "execution_count": 1,
   "metadata": {},
   "outputs": [],
   "source": [
    "from unityagents import UnityEnvironment\n",
    "import numpy as np"
   ]
  },
  {
   "cell_type": "markdown",
   "metadata": {},
   "source": [
    "Next, we will start the environment!  **_Before running the code cell below_**, change the `file_name` parameter to match the location of the Unity environment that you downloaded.\n",
    "\n",
    "- **Mac**: `\"path/to/Tennis.app\"`\n",
    "- **Windows** (x86): `\"path/to/Tennis_Windows_x86/Tennis.exe\"`\n",
    "- **Windows** (x86_64): `\"path/to/Tennis_Windows_x86_64/Tennis.exe\"`\n",
    "- **Linux** (x86): `\"path/to/Tennis_Linux/Tennis.x86\"`\n",
    "- **Linux** (x86_64): `\"path/to/Tennis_Linux/Tennis.x86_64\"`\n",
    "- **Linux** (x86, headless): `\"path/to/Tennis_Linux_NoVis/Tennis.x86\"`\n",
    "- **Linux** (x86_64, headless): `\"path/to/Tennis_Linux_NoVis/Tennis.x86_64\"`\n",
    "\n",
    "For instance, if you are using a Mac, then you downloaded `Tennis.app`.  If this file is in the same folder as the notebook, then the line below should appear as follows:\n",
    "```\n",
    "env = UnityEnvironment(file_name=\"Tennis.app\")\n",
    "```"
   ]
  },
  {
   "cell_type": "code",
   "execution_count": 2,
   "metadata": {},
   "outputs": [
    {
     "name": "stderr",
     "output_type": "stream",
     "text": [
      "INFO:unityagents:\n",
      "'Academy' started successfully!\n",
      "Unity Academy name: Academy\n",
      "        Number of Brains: 1\n",
      "        Number of External Brains : 1\n",
      "        Lesson number : 0\n",
      "        Reset Parameters :\n",
      "\t\t\n",
      "Unity brain name: TennisBrain\n",
      "        Number of Visual Observations (per agent): 0\n",
      "        Vector Observation space type: continuous\n",
      "        Vector Observation space size (per agent): 8\n",
      "        Number of stacked Vector Observation: 3\n",
      "        Vector Action space type: continuous\n",
      "        Vector Action space size (per agent): 2\n",
      "        Vector Action descriptions: , \n"
     ]
    }
   ],
   "source": [
    "env = UnityEnvironment(file_name=\"./Tennis.app\")"
   ]
  },
  {
   "cell_type": "markdown",
   "metadata": {},
   "source": [
    "Environments contain **_brains_** which are responsible for deciding the actions of their associated agents. Here we check for the first brain available, and set it as the default brain we will be controlling from Python."
   ]
  },
  {
   "cell_type": "code",
   "execution_count": 3,
   "metadata": {},
   "outputs": [],
   "source": [
    "# get the default brain\n",
    "brain_name = env.brain_names[0]\n",
    "brain = env.brains[brain_name]"
   ]
  },
  {
   "cell_type": "markdown",
   "metadata": {},
   "source": [
    "### 2. Examine the State and Action Spaces\n",
    "\n",
    "In this environment, two agents control rackets to bounce a ball over a net. If an agent hits the ball over the net, it receives a reward of +0.1.  If an agent lets a ball hit the ground or hits the ball out of bounds, it receives a reward of -0.01.  Thus, the goal of each agent is to keep the ball in play.\n",
    "\n",
    "The observation space consists of 8 variables corresponding to the position and velocity of the ball and racket. Two continuous actions are available, corresponding to movement toward (or away from) the net, and jumping. \n",
    "\n",
    "Run the code cell below to print some information about the environment."
   ]
  },
  {
   "cell_type": "code",
   "execution_count": 4,
   "metadata": {},
   "outputs": [
    {
     "name": "stdout",
     "output_type": "stream",
     "text": [
      "Number of agents: 2\n",
      "Size of each action: 2\n",
      "There are 2 agents. Each observes a state with length: 24\n",
      "The state for the first agent looks like: [ 0.          0.          0.          0.          0.          0.\n",
      "  0.          0.          0.          0.          0.          0.\n",
      "  0.          0.          0.          0.         -6.65278625 -1.5\n",
      " -0.          0.          6.83172083  6.         -0.          0.        ]\n"
     ]
    }
   ],
   "source": [
    "# reset the environment\n",
    "env_info = env.reset(train_mode=True)[brain_name]\n",
    "\n",
    "# number of agents \n",
    "num_agents = len(env_info.agents)\n",
    "print('Number of agents:', num_agents)\n",
    "\n",
    "# size of each action\n",
    "action_size = brain.vector_action_space_size\n",
    "print('Size of each action:', action_size)\n",
    "\n",
    "# examine the state space \n",
    "states = env_info.vector_observations\n",
    "state_size = states.shape[1]\n",
    "print('There are {} agents. Each observes a state with length: {}'.format(states.shape[0], state_size))\n",
    "print('The state for the first agent looks like:', states[0])"
   ]
  },
  {
   "cell_type": "markdown",
   "metadata": {},
   "source": [
    "### Training\n"
   ]
  },
  {
   "cell_type": "code",
   "execution_count": 5,
   "metadata": {},
   "outputs": [],
   "source": [
    "from  collections  import deque\n",
    "from itertools import count\n",
    "import time\n",
    "import torch\n",
    "from ddpg_agent import Agent\n",
    "import matplotlib.pyplot as plt\n",
    "%matplotlib inline\n",
    "env_info = env.reset(train_mode=True)[brain_name]\n",
    "agent1 = Agent(state_size=state_size+1, action_size=action_size, random_seed=15)\n",
    "agent2 = Agent(state_size=state_size+1, action_size=action_size, random_seed=15)\n",
    "agent2.critic_local = agent1.critic_local\n",
    "agent2.critic_target = agent1.critic_target\n",
    "agent2.critic_optimizer = agent1.critic_optimizer\n",
    "\n",
    "agent2.actor_local = agent1.actor_local\n",
    "agent2.actor_target = agent1.actor_target\n",
    "agent2.actor_optimizer = agent1.actor_optimizer\n",
    "\n",
    "agent2.memory = agent1.memory"
   ]
  },
  {
   "cell_type": "code",
   "execution_count": null,
   "metadata": {},
   "outputs": [],
   "source": []
  },
  {
   "cell_type": "code",
   "execution_count": null,
   "metadata": {
    "scrolled": false
   },
   "outputs": [
    {
     "name": "stdout",
     "output_type": "stream",
     "text": [
      "Episode 0\t Mean Score for Agent 1: 0.000, Mean Score for Agent 2: -0.010, Mean Score of both Agents: -0.005\n",
      "Episode 100\t Mean Score for Agent 1: -0.005, Mean Score for Agent 2: -0.005, Mean Score of both Agents: -0.005\n",
      "Episode 200\t Mean Score for Agent 1: 0.000, Mean Score for Agent 2: 0.001, Mean Score of both Agents: 0.001\n",
      "Episode 300\t Mean Score for Agent 1: -0.004, Mean Score for Agent 2: -0.004, Mean Score of both Agents: -0.004\n",
      "Episode 400\t Mean Score for Agent 1: -0.005, Mean Score for Agent 2: -0.005, Mean Score of both Agents: -0.005\n",
      "Episode 500\t Mean Score for Agent 1: -0.003, Mean Score for Agent 2: -0.005, Mean Score of both Agents: -0.004\n",
      "Episode 600\t Mean Score for Agent 1: -0.004, Mean Score for Agent 2: -0.005, Mean Score of both Agents: -0.005\n",
      "Episode 700\t Mean Score for Agent 1: -0.005, Mean Score for Agent 2: -0.005, Mean Score of both Agents: -0.005\n",
      "Episode 800\t Mean Score for Agent 1: -0.005, Mean Score for Agent 2: -0.005, Mean Score of both Agents: -0.005\n",
      "Episode 900\t Mean Score for Agent 1: 0.044, Mean Score for Agent 2: 0.042, Mean Score of both Agents: 0.043\n",
      "Episode 1000\t Mean Score for Agent 1: 0.120, Mean Score for Agent 2: 0.123, Mean Score of both Agents: 0.122\n",
      "Episode 1100\t Mean Score for Agent 1: 0.897, Mean Score for Agent 2: 0.885, Mean Score of both Agents: 0.891\n"
     ]
    }
   ],
   "source": [
    "def ddpg(n_episodes=4000, print_every=100, target_score=0.5):\n",
    "    scores1 = []\n",
    "    scores2 = []\n",
    "    mean_scores = []\n",
    "    for i_episode in range(0, n_episodes + 1):\n",
    "        env_info = env.reset(train_mode=True)[brain_name]\n",
    "        state = env_info.vector_observations\n",
    "        agent1.reset()\n",
    "        agent2.reset()\n",
    "        score1 = 0\n",
    "        score2 = 0\n",
    "        while True:\n",
    "            state1 = np.concatenate([state[0], [1]]).reshape((1,state.shape[1]+1))\n",
    "            state2 = np.concatenate([state[1], [-1]]).reshape((1,state.shape[1]+1))\n",
    "            action1 = agent1.act(state1)\n",
    "            action2 = agent2.act(state2)\n",
    "            env_info = env.step([action1, action2])[brain_name]\n",
    "            next_state = env_info.vector_observations\n",
    "            reward = env_info.rewards\n",
    "            done = env_info.local_done\n",
    "            next_state1 = np.concatenate([next_state[0], [1]])\n",
    "            next_state2 = np.concatenate([next_state[1], [-1]])\n",
    "            agent1.step(state1, action1, np.mean(reward),\n",
    "                        next_state1, done[0])\n",
    "            agent2.step(state2, action2, np.mean(reward),\n",
    "                        next_state2, done[1])\n",
    "            state = next_state\n",
    "            score1 += reward[0]\n",
    "            score2 += reward[1]\n",
    "            if np.all(done):\n",
    "                break\n",
    "\n",
    "        scores1.append(score1)\n",
    "        scores2.append(score2)\n",
    "        mean_scores.append(np.mean([score1, score2]))\n",
    "        mean1 = np.mean(scores1[-100:])\n",
    "        mean2 = np.mean(scores2[-100:])\n",
    "        mean_score = np.mean(mean_scores[-100:])\n",
    "        if i_episode % print_every==0:\n",
    "            print('Episode {}\\t Mean Score for Agent 1: {:.3f}, Mean Score for Agent 2: {:.3f}, Mean Score of both Agents: {:.3f}'.format(\n",
    "            i_episode, mean1, mean2, mean_score))\n",
    "            \n",
    "        if i_episode % 100 == 0:\n",
    "            torch.save(agent1.actor_local.state_dict(), 'checkpoint_actor_1.pth')\n",
    "            torch.save(agent1.critic_local.state_dict(), 'checkpoint_critic_1.pth')\n",
    "            torch.save(agent2.actor_local.state_dict(), 'checkpoint_actor_2.pth')\n",
    "            torch.save(agent2.critic_local.state_dict(), 'checkpoint_critic_2.pth')\n",
    "        if mean_score>1:\n",
    "            break\n",
    "\n",
    "    return mean_scores\n",
    "\n",
    "scores = ddpg()\n",
    "\n",
    "fig = plt.figure()\n",
    "ax = fig.add_subplot(111)\n",
    "plt.plot(np.arange(1, len(scores)+1), scores, 'r-')\n",
    "plt.ylabel('Score')\n",
    "plt.xlabel('Episode #')\n",
    "plt.show()"
   ]
  },
  {
   "cell_type": "code",
   "execution_count": null,
   "metadata": {},
   "outputs": [],
   "source": [
    "env.close()"
   ]
  },
  {
   "cell_type": "code",
   "execution_count": null,
   "metadata": {},
   "outputs": [],
   "source": []
  },
  {
   "cell_type": "code",
   "execution_count": null,
   "metadata": {},
   "outputs": [],
   "source": []
  },
  {
   "cell_type": "code",
   "execution_count": null,
   "metadata": {},
   "outputs": [],
   "source": []
  },
  {
   "cell_type": "code",
   "execution_count": null,
   "metadata": {},
   "outputs": [],
   "source": []
  },
  {
   "cell_type": "code",
   "execution_count": null,
   "metadata": {},
   "outputs": [],
   "source": []
  },
  {
   "cell_type": "code",
   "execution_count": null,
   "metadata": {},
   "outputs": [],
   "source": []
  },
  {
   "cell_type": "code",
   "execution_count": null,
   "metadata": {},
   "outputs": [],
   "source": []
  },
  {
   "cell_type": "code",
   "execution_count": null,
   "metadata": {},
   "outputs": [],
   "source": []
  },
  {
   "cell_type": "code",
   "execution_count": null,
   "metadata": {},
   "outputs": [],
   "source": []
  }
 ],
 "metadata": {
  "kernelspec": {
   "display_name": "Python 3",
   "language": "python",
   "name": "python3"
  },
  "language_info": {
   "codemirror_mode": {
    "name": "ipython",
    "version": 3
   },
   "file_extension": ".py",
   "mimetype": "text/x-python",
   "name": "python",
   "nbconvert_exporter": "python",
   "pygments_lexer": "ipython3",
   "version": "3.6.0"
  }
 },
 "nbformat": 4,
 "nbformat_minor": 2
}
